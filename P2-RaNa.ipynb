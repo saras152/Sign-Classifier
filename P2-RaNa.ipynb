{
 "cells": [
  {
   "cell_type": "code",
   "execution_count": null,
   "metadata": {
    "collapsed": true
   },
   "outputs": [],
   "source": [
    "# Load pickled data\n",
    "import pickle\n",
    "\n",
    "# TODO: Fill this in based on where you saved the training and testing data\n",
    "\n",
    "training_file = './traffic-signs-data/train.p'\n",
    "validation_file='./traffic-signs-data/valid.p'\n",
    "testing_file = './traffic-signs-data/test.p'\n",
    "\n",
    "with open(training_file, mode='rb') as f:\n",
    "    train = pickle.load(f)\n",
    "with open(validation_file, mode='rb') as f:\n",
    "    valid = pickle.load(f)\n",
    "with open(testing_file, mode='rb') as f:\n",
    "    test = pickle.load(f)\n",
    "    \n",
    "X_train, y_train = train['features'], train['labels']\n",
    "X_valid, y_valid = valid['features'], valid['labels']\n",
    "X_test, y_test = test['features'], test['labels']\n"
   ]
  },
  {
   "cell_type": "code",
   "execution_count": null,
   "metadata": {
    "collapsed": true
   },
   "outputs": [],
   "source": [
    "import numpy as np\n",
    "\n",
    "# TODO: Number of training examples\n",
    "n_train = train['features'].shape[0]\n",
    "\n",
    "# TODO: Number of validation examples\n",
    "n_validation = valid['features'].shape[0]\n",
    "\n",
    "# TODO: Number of testing examples.\n",
    "n_test =test['features'].shape[0]\n",
    "\n",
    "# TODO: What's the shape of an traffic sign image?\n",
    "image_shape = train['features'].shape[1:]\n",
    "\n",
    "# TODO: How many unique classes/labels there are in the dataset.\n",
    "n_classes = np.unique(train['labels']).shape[0]\n",
    "\n",
    "print(\"Number of training examples =\", n_train)\n",
    "print(\"Number of testing examples =\", n_test)\n",
    "print(\"Image data shape =\", image_shape)\n",
    "print(\"Number of classes =\", n_classes)"
   ]
  },
  {
   "cell_type": "code",
   "execution_count": null,
   "metadata": {
    "collapsed": true
   },
   "outputs": [],
   "source": [
    "import matplotlib.pyplot as plt\n",
    "# Visualizations will be shown in the notebook.\n",
    "import cv2\n",
    "\n",
    "%matplotlib inline\n",
    "\n",
    "def plotmyimage(img,title=''):\n",
    "    #This function is used during the debug phase. \n",
    "    #This just plots the image \n",
    "    plt.imshow(img,cmap='gray') # draws in grayscale if it is M x N x 1, draws in color if RGB\n",
    "    plt.title(title)\n",
    "    plt.show()\n",
    "\n",
    "def grayscale(img):\n",
    "    \"\"\"Applies the Grayscale transform\n",
    "    This will return an image with only one color channel\n",
    "    but NOTE: to see the returned image as grayscale\n",
    "    (assuming your grayscaled image is called 'gray')\n",
    "    you should call plt.imshow(gray, cmap='gray')\"\"\"\n",
    "    return cv2.cvtColor(img, cv2.COLOR_RGB2GRAY)"
   ]
  },
  {
   "cell_type": "code",
   "execution_count": null,
   "metadata": {
    "collapsed": true
   },
   "outputs": [],
   "source": [
    "ulist,ilist=np.unique(test['labels'],return_index=True)\n",
    "for j in range(len(ilist)):\n",
    "    x=np.where(test['labels']==ulist[j])\n",
    "    y=[]\n",
    "    for i in range(len(x[0])):\n",
    "        y.append(grayscale(test['features'][x[0][i]]))\n",
    "    y=np.array(y)\n",
    "    z=y.mean(axis=0)\n",
    "    print('The following images are averaged-grayscale and first instances of the images from a similar set labeled as:{}'.format(ulist[j]))\n",
    "    plotmyimage(z)\n",
    "    plotmyimage(test['features'][ilist[j]])\n",
    "z=np.array(z)\n",
    "#z.shape"
   ]
  },
  {
   "cell_type": "code",
   "execution_count": null,
   "metadata": {
    "collapsed": true
   },
   "outputs": [],
   "source": [
    "features=test['features']\n",
    "labels=test['labels']\n",
    "\n",
    "features_gray=[]\n",
    "for i in range(features.shape[0]):\n",
    "    features_gray.append(grayscale(features[i]))\n",
    "features_gray=np.array(features_gray)\n",
    "#features_gray.shape\n",
    "f_g_norm=(features_gray-128)/128\n",
    "f_norm=(features.astype(np.int16)-128)/128\n",
    "lmean=labels.mean()\n",
    "l_norm=(labels-lmean)/lmean"
   ]
  },
  {
   "cell_type": "code",
   "execution_count": null,
   "metadata": {
    "collapsed": true
   },
   "outputs": [],
   "source": [
    "import tensorflow as tf\n",
    "\n",
    "learning_rate=0.1;\n",
    "epochs=5;\n",
    "batch_size=128;\n",
    "\n",
    "n_input=n_train\n",
    "imageH=image_shape[0]\n",
    "imageW=image_shape[1]\n",
    "imageD=image_shape[2]\n",
    "\n",
    "myinput=tf.placeholder(tf.float32,(None,imageH,imageW,imageD))\n",
    "myoutput=tf.placeholder(tf.float32,(None,n_classes))\n",
    "\n",
    "weights = tf.Variable(tf.random_normal([n_input, n_classes]))\n",
    "bias = tf.Variable(tf.random_normal([n_classes]))"
   ]
  }
 ],
 "metadata": {
  "kernelspec": {
   "display_name": "Python [default]",
   "language": "python",
   "name": "python3"
  },
  "language_info": {
   "codemirror_mode": {
    "name": "ipython",
    "version": 3
   },
   "file_extension": ".py",
   "mimetype": "text/x-python",
   "name": "python",
   "nbconvert_exporter": "python",
   "pygments_lexer": "ipython3",
   "version": "3.5.2"
  }
 },
 "nbformat": 4,
 "nbformat_minor": 2
}
